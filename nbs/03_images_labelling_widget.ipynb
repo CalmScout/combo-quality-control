{
 "cells": [
  {
   "cell_type": "markdown",
   "metadata": {},
   "source": [
    "# Jupyter widget to label the imaging data\n",
    "Some images are randomized (`CTF-P006` project) - even if image has status `OK` the ordering of wells is random. However, we don't have an access to the project name in our data and will rely on visual filtering out those images because they break the pattern. Those images should first be de-randomized first, when the mapping will be available. Meanwhile, we just exclude those images from consideration.<br>\n",
    "\n",
    "Based on the [labeling tool](https://github.com/dida-do/public/tree/master/labelingtool) repo."
   ]
  },
  {
   "cell_type": "code",
   "execution_count": 30,
   "metadata": {},
   "outputs": [],
   "source": [
    "# add parent dir to path\n",
    "import os\n",
    "import sys\n",
    "sys.path.append(os.path.dirname(os.getcwd()))\n",
    "import numpy as np\n",
    "from pathlib import Path\n",
    "\n",
    "from IPython.display import Image, clear_output, display\n",
    "from ipywidgets import Button, HBox, Output, Layout\n",
    "from tqdm.notebook import tqdm\n",
    "from matplotlib.image import imsave"
   ]
  },
  {
   "cell_type": "code",
   "execution_count": 31,
   "metadata": {},
   "outputs": [],
   "source": [
    "from params import PATH_OUT\n",
    "path_npy = PATH_OUT / 'data_classifier' # path to .npy files"
   ]
  },
  {
   "cell_type": "markdown",
   "metadata": {},
   "source": [
    "Generate 10 times larger images (replace each pixel by `10x10` pixels):"
   ]
  },
  {
   "cell_type": "code",
   "execution_count": 32,
   "metadata": {},
   "outputs": [],
   "source": [
    "path_ims = PATH_OUT / 'data_classifier_png_large'\n",
    "path_ims.mkdir(exist_ok=True)"
   ]
  },
  {
   "cell_type": "code",
   "execution_count": 33,
   "metadata": {},
   "outputs": [
    {
     "data": {
      "application/vnd.jupyter.widget-view+json": {
       "model_id": "78215222d6dd44d4826f9a057612d566",
       "version_major": 2,
       "version_minor": 0
      },
      "text/plain": [
       "0it [00:00, ?it/s]"
      ]
     },
     "metadata": {},
     "output_type": "display_data"
    }
   ],
   "source": [
    "for f in tqdm(path_npy.glob('*.npy')):\n",
    "    arr = np.load(f)\n",
    "    arr = arr.repeat(10, axis=0).repeat(10, axis=1)\n",
    "    name = f.name.split('.')[0]\n",
    "    imsave(path_ims / f\"{name}.png\", arr)"
   ]
  },
  {
   "cell_type": "markdown",
   "metadata": {},
   "source": [
    "Define class for imaage labelling:"
   ]
  },
  {
   "cell_type": "code",
   "execution_count": 37,
   "metadata": {},
   "outputs": [],
   "source": [
    "\"\"\"Simple tool for class labeling of images in Jupyter notebooks.\n",
    "\n",
    "Classes:\n",
    "    ImageClassLabeler\n",
    "\n",
    "\"\"\"\n",
    "\n",
    "class LabelingTool:\n",
    "    \"\"\"A tool to be used for image classification labeling.\n",
    "\n",
    "    Needs to run in a jupyter notebook to display ipywidgets.\n",
    "\n",
    "    Attributes:\n",
    "        classes: A list of image classes to be assigned during labeling.\n",
    "        path: The path to the directory that contains the images.\n",
    "        images: A list of the image files in the directory.\n",
    "        current: Pointer to the current position of the tool.\n",
    "        labels: Dictionary with assigned labels {'filename': 'label'}.\n",
    "    \"\"\"\n",
    "\n",
    "    def __init__(\n",
    "        self,\n",
    "        classes: list,\n",
    "        path: str,\n",
    "    ) -> None:\n",
    "        \"\"\"Construct all necessary attributes for the LabelingTool object.\n",
    "\n",
    "        Args:\n",
    "            classes: List of candidate labels (typically strings).\n",
    "            path: Path to the directory containing the images to be labeled.\n",
    "\n",
    "        \"\"\"\n",
    "        # store list of available class labels\n",
    "        self.classes = classes\n",
    "\n",
    "        # store path and list of images in path\n",
    "        self.path = Path(path)\n",
    "        self.images = [f.name for f in self.path.glob(\"*.png\")]\n",
    "\n",
    "        # set up empty dict for labels and initial position\n",
    "        self.labels = {}\n",
    "        self.position = 0\n",
    "\n",
    "    def _next(self, *args) -> None:\n",
    "        \"\"\"Select the next image and updates the displays.\n",
    "\n",
    "        Args:\n",
    "            *args: Variable length argument list, allows to pass Button object.\n",
    "\n",
    "        \"\"\"\n",
    "        # update position\n",
    "        self.position += 1\n",
    "        if self.position == len(self.images):\n",
    "            self.position = 0\n",
    "\n",
    "        # refresh display\n",
    "        image = Image(self.path / self.images[self.position])\n",
    "        with self.frame:\n",
    "            clear_output(wait=True)\n",
    "            display(image)\n",
    "        \n",
    "\n",
    "    def _go_back(self, *args) -> None:\n",
    "        \"\"\"Select the previous image and updates the displays.\n",
    "\n",
    "        Do not do anything if it is the first image.\n",
    "\n",
    "        Args:\n",
    "            *args: Variable length argument list, allows to pass Button object.\n",
    "\n",
    "        \"\"\"\n",
    "        # update position\n",
    "        self.position -= 1\n",
    "        if self.position == -1:\n",
    "            self.position = len(self.images) - 1\n",
    "\n",
    "        # refresh display\n",
    "        image = Image(self.path / self.images[self.position])\n",
    "        with self.frame:\n",
    "            clear_output(wait=True)\n",
    "            display(image)\n",
    "        \n",
    "\n",
    "    def _select_label(self, button: Button) -> None:\n",
    "        \"\"\"Attach a label to the current image and stores it.\n",
    "\n",
    "        Link the label from a given button to the current image and store it\n",
    "        in the labels dictionary and in the current working directory as .json.\n",
    "\n",
    "        Args:\n",
    "            button (ipywidgets.Button): a button supplying the label to be\n",
    "                associated with the current image\n",
    "\n",
    "        \"\"\"\n",
    "        # store label\n",
    "        current_image = self.images[self.position]\n",
    "        self.labels[current_image] = button.description\n",
    "\n",
    "        # move on\n",
    "        self._next()\n",
    "\n",
    "    def start(self) -> None:\n",
    "        \"\"\"Start the labeling procedure.\n",
    "\n",
    "        Load the first image to label and set up the user interface.\n",
    "\n",
    "        \"\"\"\n",
    "        # image frame\n",
    "        image = Image(self.path / self.images[self.position])\n",
    "        self.frame = Output(layout=Layout(height=\"160px\", max_width=\"240px\"))\n",
    "        with self.frame:\n",
    "            display(image)\n",
    "        \n",
    "        \n",
    "        # navigation buttons\n",
    "        backward_button = Button(description=\"< go back\")\n",
    "        backward_button.on_click(self._go_back)\n",
    "        forward_button = Button(description=\"next >\")\n",
    "        forward_button.on_click(self._next)\n",
    "        self.navigation_buttons = [backward_button, forward_button]\n",
    "\n",
    "        # class label buttons\n",
    "        self.class_buttons = []\n",
    "        for label in self.classes:\n",
    "            label_button = Button(description=label)\n",
    "            label_button.on_click(self._select_label)\n",
    "            self.class_buttons.append(label_button)\n",
    "\n",
    "        # display contents\n",
    "        display(self.frame)\n",
    "        display(HBox(self.navigation_buttons))\n",
    "        display(HBox(self.class_buttons))"
   ]
  },
  {
   "cell_type": "code",
   "execution_count": 38,
   "metadata": {},
   "outputs": [],
   "source": [
    "tool = LabelingTool(path=path_ims, classes=[\"good\", \"randomized\"])"
   ]
  },
  {
   "cell_type": "code",
   "execution_count": 39,
   "metadata": {},
   "outputs": [
    {
     "data": {
      "application/vnd.jupyter.widget-view+json": {
       "model_id": "e760ec16a8174964985979a098a8f5fc",
       "version_major": 2,
       "version_minor": 0
      },
      "text/plain": [
       "Output(layout=Layout(height='160px', max_width='240px'))"
      ]
     },
     "metadata": {},
     "output_type": "display_data"
    },
    {
     "data": {
      "application/vnd.jupyter.widget-view+json": {
       "model_id": "c58cdbabb83742ffa3a6e999ae946b27",
       "version_major": 2,
       "version_minor": 0
      },
      "text/plain": [
       "HBox(children=(Button(description='< go back', style=ButtonStyle()), Button(description='next >', style=Button…"
      ]
     },
     "metadata": {},
     "output_type": "display_data"
    },
    {
     "data": {
      "application/vnd.jupyter.widget-view+json": {
       "model_id": "9d01e75fe32c4e1eb3a44ccb09d14803",
       "version_major": 2,
       "version_minor": 0
      },
      "text/plain": [
       "HBox(children=(Button(description='good', style=ButtonStyle()), Button(description='randomized', style=ButtonS…"
      ]
     },
     "metadata": {},
     "output_type": "display_data"
    }
   ],
   "source": [
    "tool.start()"
   ]
  },
  {
   "cell_type": "code",
   "execution_count": 40,
   "metadata": {},
   "outputs": [
    {
     "name": "stdout",
     "output_type": "stream",
     "text": [
      "{}\n"
     ]
    }
   ],
   "source": [
    "print(tool.labels)"
   ]
  },
  {
   "cell_type": "code",
   "execution_count": null,
   "metadata": {},
   "outputs": [],
   "source": []
  }
 ],
 "metadata": {
  "kernelspec": {
   "display_name": "combo",
   "language": "python",
   "name": "python3"
  },
  "language_info": {
   "codemirror_mode": {
    "name": "ipython",
    "version": 3
   },
   "file_extension": ".py",
   "mimetype": "text/x-python",
   "name": "python",
   "nbconvert_exporter": "python",
   "pygments_lexer": "ipython3",
   "version": "3.12.3"
  }
 },
 "nbformat": 4,
 "nbformat_minor": 2
}
