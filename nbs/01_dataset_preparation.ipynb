{
 "cells": [
  {
   "cell_type": "markdown",
   "metadata": {},
   "source": [
    "# Dataset generation and exploratory data analysis"
   ]
  },
  {
   "cell_type": "code",
   "execution_count": 2,
   "metadata": {},
   "outputs": [],
   "source": [
    "# add parent dir to path\n",
    "import os\n",
    "import sys\n",
    "sys.path.append(os.path.dirname(os.getcwd()))\n",
    "\n",
    "from pathlib import Path\n",
    "from params import PATH_DATA, PATH_OUT\n",
    "\n",
    "import numpy as np\n",
    "import pandas as pd\n",
    "import seaborn as sns\n",
    "from collections import Counter\n",
    "\n",
    "from fastprogress.fastprogress import progress_bar\n",
    "\n",
    "import matplotlib.image as mpimg\n",
    "\n",
    "from tools import csv2ndarray, get_label\n",
    "import hashlib"
   ]
  },
  {
   "cell_type": "code",
   "execution_count": 3,
   "metadata": {},
   "outputs": [],
   "source": [
    "path_data_npy = PATH_OUT / \"data_npy\"\n",
    "path_data_npy.mkdir(exist_ok=True, parents=True)"
   ]
  },
  {
   "cell_type": "markdown",
   "metadata": {},
   "source": [
    "## 1. Labels distribution\n",
    "Labels are enoded in filename. It is the word after the last underscore, before the dot."
   ]
  },
  {
   "cell_type": "code",
   "execution_count": 4,
   "metadata": {},
   "outputs": [
    {
     "data": {
      "text/plain": [
       "Counter({'OK': 4676, 'empty': 3815, 'WARNING': 1119})"
      ]
     },
     "execution_count": 4,
     "metadata": {},
     "output_type": "execute_result"
    }
   ],
   "source": [
    "fnames = list(PATH_DATA.rglob(\"*.csv\"))\n",
    "\n",
    "def get_label(fname):\n",
    "    return fname.name.split('.')[0].split('_')[-1]\n",
    "\n",
    "labels = [get_label(fname) for fname in fnames]\n",
    "c = Counter(labels)\n",
    "c"
   ]
  },
  {
   "cell_type": "code",
   "execution_count": 5,
   "metadata": {},
   "outputs": [
    {
     "data": {
      "image/png": "[encoded data removed]",
      "text/plain": [
       "<Figure size 640x480 with 1 Axes>"
      ]
     },
     "metadata": {},
     "output_type": "display_data"
    }
   ],
   "source": [
    "# plot the distribution of the labels\n",
    "sns.barplot(x=list(c.keys()), y=list(c.values()));"
   ]
  },
  {
   "cell_type": "markdown",
   "metadata": {},
   "source": [
    "We see that we have three classes: `OK`, `empty` and `WARNING`, classes are not balanced. `empty` label means that we actially do not have a label. That's mean that in case of several conflicting labels, one of which is `empty` we may assign the class of the plate to the different label:</br>\n",
    "* (`empty`, `OK`) -> `OK`\n",
    "* (`empty`, `WARNING`) -> `WARNING`"
   ]
  },
  {
   "cell_type": "markdown",
   "metadata": {},
   "source": [
    "## 2. Extract arrays from the `.csv` files and save them to `.npy` format"
   ]
  },
  {
   "cell_type": "code",
   "execution_count": 6,
   "metadata": {},
   "outputs": [
    {
     "data": {
      "text/html": [
       "\n",
       "<style>\n",
       "    /* Turns off some styling */\n",
       "    progress {\n",
       "        /* gets rid of default border in Firefox and Opera. */\n",
       "        border: none;\n",
       "        /* Needs to be in here for Safari polyfill so background images work as expected. */\n",
       "        background-size: auto;\n",
       "    }\n",
       "    progress:not([value]), progress:not([value])::-webkit-progress-bar {\n",
       "        background: repeating-linear-gradient(45deg, #7e7e7e, #7e7e7e 10px, #5c5c5c 10px, #5c5c5c 20px);\n",
       "    }\n",
       "    .progress-bar-interrupted, .progress-bar-interrupted::-webkit-progress-bar {\n",
       "        background: #F44336;\n",
       "    }\n",
       "</style>\n"
      ],
      "text/plain": [
       "<IPython.core.display.HTML object>"
      ]
     },
     "metadata": {},
     "output_type": "display_data"
    },
    {
     "data": {
      "text/html": [
       "\n",
       "    <div>\n",
       "      <progress value='9610' class='' max='9610' style='width:300px; height:20px; vertical-align: middle;'></progress>\n",
       "      100.00% [9610/9610 00:10&lt;00:00]\n",
       "    </div>\n",
       "    "
      ],
      "text/plain": [
       "<IPython.core.display.HTML object>"
      ]
     },
     "metadata": {},
     "output_type": "display_data"
    }
   ],
   "source": [
    "for fname in progress_bar(list(PATH_DATA.rglob(\"*.csv\"))):\n",
    "    name = fname.name\n",
    "    parent = fname.parent.name\n",
    "    # crate a parent dir if it doesn't exist\n",
    "    (path_data_npy / parent).mkdir(exist_ok=True)\n",
    "    df = pd.read_csv(fname, index_col=0)\n",
    "    values = df.values\n",
    "    # fill NA values with 0\n",
    "    values = np.nan_to_num(values)\n",
    "    np.save(path_data_npy / parent / f\"{name[:-4]}.npy\", values)"
   ]
  },
  {
   "cell_type": "markdown",
   "metadata": {},
   "source": [
    "## 3. Explore duplicates per experiments group\n",
    "Each experiments group (`COMBO-11`, ..., `CTF-P019`) may contain the same plates, but with different labels, encoded in their names. Let's find out those duplicates."
   ]
  },
  {
   "cell_type": "code",
   "execution_count": 45,
   "metadata": {},
   "outputs": [],
   "source": [
    "# check if `data_hashes.csv` exists and load if so\n",
    "if (PATH_OUT / \"data_hashes.csv\").exists():\n",
    "    df_hashes = pd.read_csv(PATH_OUT / \"data_hashes.csv\", index_col=0)\n",
    "else:\n",
    "    df_hashes = pd.DataFrame(columns=[\"experiment_group\", \"fname\", \"name\", \"label\", \"hash\"])\n",
    "    fnames = list(path_data_npy.rglob(\"*.npy\"))\n",
    "    for idx, fname in progress_bar(enumerate(fnames), total=len(fnames)):\n",
    "        name = fname.name\n",
    "        parent = fname.parent.name\n",
    "        values = np.load(fname)\n",
    "        hash = hashlib.md5(str(values).encode()).hexdigest()\n",
    "        df_hashes.loc[idx] = [parent, fname, name, get_label(fname), hash]\n",
    "    \n",
    "    df_hashes.to_csv(PATH_OUT / \"data_hashes.csv\")"
   ]
  },
  {
   "cell_type": "code",
   "execution_count": 47,
   "metadata": {},
   "outputs": [
    {
     "data": {
      "text/html": [
       "<div>\n",
       "<style scoped>\n",
       "    .dataframe tbody tr th:only-of-type {\n",
       "        vertical-align: middle;\n",
       "    }\n",
       "\n",
       "    .dataframe tbody tr th {\n",
       "        vertical-align: top;\n",
       "    }\n",
       "\n",
       "    .dataframe thead th {\n",
       "        text-align: right;\n",
       "    }\n",
       "</style>\n",
       "<table border=\"1\" class=\"dataframe\">\n",
       "  <thead>\n",
       "    <tr style=\"text-align: right;\">\n",
       "      <th></th>\n",
       "      <th>experiment_group</th>\n",
       "      <th>fname</th>\n",
       "      <th>name</th>\n",
       "      <th>label</th>\n",
       "      <th>hash</th>\n",
       "    </tr>\n",
       "  </thead>\n",
       "  <tbody>\n",
       "    <tr>\n",
       "      <th>0</th>\n",
       "      <td>CTF-P007</td>\n",
       "      <td>../out/data_npy/CTF-P007/plate_17305eb6f8d7_OK...</td>\n",
       "      <td>plate_17305eb6f8d7_OK.npy</td>\n",
       "      <td>OK</td>\n",
       "      <td>2aad337f0fac9e7a3b2b640d0f6c7a04</td>\n",
       "    </tr>\n",
       "    <tr>\n",
       "      <th>1</th>\n",
       "      <td>CTF-P007</td>\n",
       "      <td>../out/data_npy/CTF-P007/plate_1730d1b301_OK.npy</td>\n",
       "      <td>plate_1730d1b301_OK.npy</td>\n",
       "      <td>OK</td>\n",
       "      <td>b1e922e435b537a29f56a3bf2e8c8270</td>\n",
       "    </tr>\n",
       "    <tr>\n",
       "      <th>2</th>\n",
       "      <td>CTF-P007</td>\n",
       "      <td>../out/data_npy/CTF-P007/plate_173028eaef6f_OK...</td>\n",
       "      <td>plate_173028eaef6f_OK.npy</td>\n",
       "      <td>OK</td>\n",
       "      <td>65c9988aa9fa604541ef25873fda2b32</td>\n",
       "    </tr>\n",
       "    <tr>\n",
       "      <th>3</th>\n",
       "      <td>CTF-P007</td>\n",
       "      <td>../out/data_npy/CTF-P007/plate_17305a2c7b5a_WA...</td>\n",
       "      <td>plate_17305a2c7b5a_WARNING.npy</td>\n",
       "      <td>WARNING</td>\n",
       "      <td>d5b9318dade81b4802799f35a67bfce0</td>\n",
       "    </tr>\n",
       "    <tr>\n",
       "      <th>4</th>\n",
       "      <td>CTF-P007</td>\n",
       "      <td>../out/data_npy/CTF-P007/plate_1730739b905b_OK...</td>\n",
       "      <td>plate_1730739b905b_OK.npy</td>\n",
       "      <td>OK</td>\n",
       "      <td>14cb73ead9df0e122b36f830bb7e6a5b</td>\n",
       "    </tr>\n",
       "  </tbody>\n",
       "</table>\n",
       "</div>"
      ],
      "text/plain": [
       "  experiment_group                                              fname  \\\n",
       "0         CTF-P007  ../out/data_npy/CTF-P007/plate_17305eb6f8d7_OK...   \n",
       "1         CTF-P007   ../out/data_npy/CTF-P007/plate_1730d1b301_OK.npy   \n",
       "2         CTF-P007  ../out/data_npy/CTF-P007/plate_173028eaef6f_OK...   \n",
       "3         CTF-P007  ../out/data_npy/CTF-P007/plate_17305a2c7b5a_WA...   \n",
       "4         CTF-P007  ../out/data_npy/CTF-P007/plate_1730739b905b_OK...   \n",
       "\n",
       "                             name    label                              hash  \n",
       "0       plate_17305eb6f8d7_OK.npy       OK  2aad337f0fac9e7a3b2b640d0f6c7a04  \n",
       "1         plate_1730d1b301_OK.npy       OK  b1e922e435b537a29f56a3bf2e8c8270  \n",
       "2       plate_173028eaef6f_OK.npy       OK  65c9988aa9fa604541ef25873fda2b32  \n",
       "3  plate_17305a2c7b5a_WARNING.npy  WARNING  d5b9318dade81b4802799f35a67bfce0  \n",
       "4       plate_1730739b905b_OK.npy       OK  14cb73ead9df0e122b36f830bb7e6a5b  "
      ]
     },
     "execution_count": 47,
     "metadata": {},
     "output_type": "execute_result"
    }
   ],
   "source": [
    "df_hashes.head()"
   ]
  },
  {
   "cell_type": "code",
   "execution_count": 48,
   "metadata": {},
   "outputs": [
    {
     "data": {
      "text/plain": [
       "(9610,)"
      ]
     },
     "execution_count": 48,
     "metadata": {},
     "output_type": "execute_result"
    }
   ],
   "source": [
    "df_hashes.fname.unique().shape"
   ]
  },
  {
   "cell_type": "markdown",
   "metadata": {},
   "source": [
    "We have `9610` plates, but do we have any duplicates?"
   ]
  },
  {
   "cell_type": "code",
   "execution_count": 49,
   "metadata": {},
   "outputs": [
    {
     "data": {
      "text/plain": [
       "(3372,)"
      ]
     },
     "execution_count": 49,
     "metadata": {},
     "output_type": "execute_result"
    }
   ],
   "source": [
    "df_hashes.hash.unique().shape"
   ]
  },
  {
   "cell_type": "markdown",
   "metadata": {},
   "source": [
    "So, we have only `3372` unique plates.<br>What is the distribution of labels among the files with identical hashes?"
   ]
  },
  {
   "cell_type": "code",
   "execution_count": 50,
   "metadata": {},
   "outputs": [
    {
     "data": {
      "text/plain": [
       "hash\n",
       "3837731e6d328ae032cd380c08cc7cce    70\n",
       "40b908203ff65f28255436809565d903    26\n",
       "2983a0ecc9e36a773a05e12d4a83f057    26\n",
       "344d461bcc2cf6a8b425ba1b574a4bc2    21\n",
       "0ff9e20ecd5a3b4d41198604ce9e58ad    21\n",
       "                                    ..\n",
       "ed7500c0715cf92e21bfeb687469b58f     1\n",
       "a9341e45223abcd81a9d82cf3ec235ab     1\n",
       "e61add6a9c517aaa3c55037a29421bb3     1\n",
       "d8fa1b29f0fae63ca95037d5f38defea     1\n",
       "634a22af5e1b55a990b6b94e3da84248     1\n",
       "Name: count, Length: 3372, dtype: int64"
      ]
     },
     "execution_count": 50,
     "metadata": {},
     "output_type": "execute_result"
    }
   ],
   "source": [
    "df_hashes.hash.value_counts()"
   ]
  },
  {
   "cell_type": "code",
   "execution_count": 51,
   "metadata": {},
   "outputs": [
    {
     "name": "stdout",
     "output_type": "stream",
     "text": [
      "len(hashes_duplicates): 2606\n"
     ]
    },
    {
     "data": {
      "text/plain": [
       "['3837731e6d328ae032cd380c08cc7cce',\n",
       " '40b908203ff65f28255436809565d903',\n",
       " '2983a0ecc9e36a773a05e12d4a83f057',\n",
       " '344d461bcc2cf6a8b425ba1b574a4bc2',\n",
       " '0ff9e20ecd5a3b4d41198604ce9e58ad']"
      ]
     },
     "execution_count": 51,
     "metadata": {},
     "output_type": "execute_result"
    }
   ],
   "source": [
    "# get index of pandas series where value is True\n",
    "hashes_duplicates = df_hashes.hash.value_counts().index[df_hashes.hash.value_counts() > 1].to_list()\n",
    "print(f\"len(hashes_duplicates): {len(hashes_duplicates)}\")\n",
    "hashes_duplicates[:5]"
   ]
  },
  {
   "cell_type": "code",
   "execution_count": 52,
   "metadata": {},
   "outputs": [
    {
     "name": "stdout",
     "output_type": "stream",
     "text": [
      "len(hashes_no_duplicates): 766\n"
     ]
    },
    {
     "data": {
      "text/plain": [
       "['6a4cc267a0791293619075463555ba15',\n",
       " '0feb1ae8ed7e155dc750794c63b8782a',\n",
       " 'dc14b7014a3a2b1a77e1ab8ed85fd331',\n",
       " 'c7363717d0ef3ff1179d51ee6a981233',\n",
       " '0b1cb501c19bf587a14029367ced5b2c']"
      ]
     },
     "execution_count": 52,
     "metadata": {},
     "output_type": "execute_result"
    }
   ],
   "source": [
    "hashes_no_duplicates = df_hashes.hash.value_counts().index[df_hashes.hash.value_counts() == 1].to_list()\n",
    "print(f\"len(hashes_no_duplicates): {len(hashes_no_duplicates)}\")\n",
    "hashes_no_duplicates[:5]"
   ]
  },
  {
   "cell_type": "markdown",
   "metadata": {},
   "source": [
    "Labels distribution per hash:"
   ]
  },
  {
   "cell_type": "code",
   "execution_count": 8,
   "metadata": {},
   "outputs": [],
   "source": [
    "# check if `data_hashes_duplicates.csv` exists and load if so\n",
    "if (PATH_OUT / \"data_hashes_duplicates.csv\").exists():\n",
    "    df_hashes_dup = pd.read_csv(PATH_OUT / \"data_hashes_duplicates.csv\", index_col=0)\n",
    "else:\n",
    "    df_hashes_dup = pd.DataFrame(columns=[\"hash\", \"OK\", \"empty\", \"WARNING\"])\n",
    "\n",
    "    for idx, hash in progress_bar(enumerate(hashes_duplicates), total=len(hashes_duplicates)):\n",
    "        # select all rows with the same hash\n",
    "        df = df_hashes[df_hashes.hash == hash]\n",
    "        d = df.label.value_counts().to_dict()\n",
    "        keys = [\"OK\", \"empty\", \"WARNING\"]\n",
    "        for key in keys:\n",
    "            if key not in d:\n",
    "                d[key] = 0\n",
    "        df_hashes_dup.loc[idx] = [hash] + list(d.values())\n",
    "\n",
    "    df_hashes_dup.to_csv(PATH_OUT / \"data_hashes_duplicates.csv\")"
   ]
  },
  {
   "cell_type": "code",
   "execution_count": 9,
   "metadata": {},
   "outputs": [
    {
     "data": {
      "text/html": [
       "<div>\n",
       "<style scoped>\n",
       "    .dataframe tbody tr th:only-of-type {\n",
       "        vertical-align: middle;\n",
       "    }\n",
       "\n",
       "    .dataframe tbody tr th {\n",
       "        vertical-align: top;\n",
       "    }\n",
       "\n",
       "    .dataframe thead th {\n",
       "        text-align: right;\n",
       "    }\n",
       "</style>\n",
       "<table border=\"1\" class=\"dataframe\">\n",
       "  <thead>\n",
       "    <tr style=\"text-align: right;\">\n",
       "      <th></th>\n",
       "      <th>hash</th>\n",
       "      <th>OK</th>\n",
       "      <th>empty</th>\n",
       "      <th>WARNING</th>\n",
       "    </tr>\n",
       "  </thead>\n",
       "  <tbody>\n",
       "    <tr>\n",
       "      <th>0</th>\n",
       "      <td>3837731e6d328ae032cd380c08cc7cce</td>\n",
       "      <td>70</td>\n",
       "      <td>0</td>\n",
       "      <td>0</td>\n",
       "    </tr>\n",
       "    <tr>\n",
       "      <th>1</th>\n",
       "      <td>40b908203ff65f28255436809565d903</td>\n",
       "      <td>20</td>\n",
       "      <td>6</td>\n",
       "      <td>0</td>\n",
       "    </tr>\n",
       "    <tr>\n",
       "      <th>2</th>\n",
       "      <td>2983a0ecc9e36a773a05e12d4a83f057</td>\n",
       "      <td>20</td>\n",
       "      <td>6</td>\n",
       "      <td>0</td>\n",
       "    </tr>\n",
       "    <tr>\n",
       "      <th>3</th>\n",
       "      <td>344d461bcc2cf6a8b425ba1b574a4bc2</td>\n",
       "      <td>14</td>\n",
       "      <td>7</td>\n",
       "      <td>0</td>\n",
       "    </tr>\n",
       "    <tr>\n",
       "      <th>4</th>\n",
       "      <td>0ff9e20ecd5a3b4d41198604ce9e58ad</td>\n",
       "      <td>14</td>\n",
       "      <td>7</td>\n",
       "      <td>0</td>\n",
       "    </tr>\n",
       "    <tr>\n",
       "      <th>...</th>\n",
       "      <td>...</td>\n",
       "      <td>...</td>\n",
       "      <td>...</td>\n",
       "      <td>...</td>\n",
       "    </tr>\n",
       "    <tr>\n",
       "      <th>2601</th>\n",
       "      <td>36440c720951e6b0796fb97c4655f1c8</td>\n",
       "      <td>2</td>\n",
       "      <td>0</td>\n",
       "      <td>0</td>\n",
       "    </tr>\n",
       "    <tr>\n",
       "      <th>2602</th>\n",
       "      <td>e476450941452d92a8b9cb9a688dcb49</td>\n",
       "      <td>2</td>\n",
       "      <td>0</td>\n",
       "      <td>0</td>\n",
       "    </tr>\n",
       "    <tr>\n",
       "      <th>2603</th>\n",
       "      <td>6efb3d9495532fb69a8fea3e6442febb</td>\n",
       "      <td>2</td>\n",
       "      <td>0</td>\n",
       "      <td>0</td>\n",
       "    </tr>\n",
       "    <tr>\n",
       "      <th>2604</th>\n",
       "      <td>272f3a2ea8200b1d97b6a9331a08ac9b</td>\n",
       "      <td>1</td>\n",
       "      <td>1</td>\n",
       "      <td>0</td>\n",
       "    </tr>\n",
       "    <tr>\n",
       "      <th>2605</th>\n",
       "      <td>4b19ca773be2a7df45e039e48f478b99</td>\n",
       "      <td>2</td>\n",
       "      <td>0</td>\n",
       "      <td>0</td>\n",
       "    </tr>\n",
       "  </tbody>\n",
       "</table>\n",
       "<p>2606 rows × 4 columns</p>\n",
       "</div>"
      ],
      "text/plain": [
       "                                  hash  OK  empty  WARNING\n",
       "0     3837731e6d328ae032cd380c08cc7cce  70      0        0\n",
       "1     40b908203ff65f28255436809565d903  20      6        0\n",
       "2     2983a0ecc9e36a773a05e12d4a83f057  20      6        0\n",
       "3     344d461bcc2cf6a8b425ba1b574a4bc2  14      7        0\n",
       "4     0ff9e20ecd5a3b4d41198604ce9e58ad  14      7        0\n",
       "...                                ...  ..    ...      ...\n",
       "2601  36440c720951e6b0796fb97c4655f1c8   2      0        0\n",
       "2602  e476450941452d92a8b9cb9a688dcb49   2      0        0\n",
       "2603  6efb3d9495532fb69a8fea3e6442febb   2      0        0\n",
       "2604  272f3a2ea8200b1d97b6a9331a08ac9b   1      1        0\n",
       "2605  4b19ca773be2a7df45e039e48f478b99   2      0        0\n",
       "\n",
       "[2606 rows x 4 columns]"
      ]
     },
     "execution_count": 9,
     "metadata": {},
     "output_type": "execute_result"
    }
   ],
   "source": [
    "df_hashes_dup"
   ]
  },
  {
   "cell_type": "code",
   "execution_count": 10,
   "metadata": {},
   "outputs": [
    {
     "data": {
      "text/plain": [
       "hash       object\n",
       "OK          int64\n",
       "empty       int64\n",
       "WARNING     int64\n",
       "dtype: object"
      ]
     },
     "execution_count": 10,
     "metadata": {},
     "output_type": "execute_result"
    }
   ],
   "source": [
    "df_hashes_dup.dtypes"
   ]
  },
  {
   "cell_type": "code",
   "execution_count": 11,
   "metadata": {},
   "outputs": [
    {
     "data": {
      "text/plain": [
       "3"
      ]
     },
     "execution_count": 11,
     "metadata": {},
     "output_type": "execute_result"
    }
   ],
   "source": [
    "# get number of columns with int64 dtype\n",
    "df_hashes_dup.select_dtypes(include=[\"int64\"]).shape[1]"
   ]
  },
  {
   "cell_type": "code",
   "execution_count": 16,
   "metadata": {},
   "outputs": [
    {
     "data": {
      "text/plain": [
       "hash       3837731e6d328ae032cd380c08cc7cce\n",
       "OK                                       70\n",
       "empty                                     0\n",
       "WARNING                                   0\n",
       "Name: 0, dtype: object"
      ]
     },
     "execution_count": 16,
     "metadata": {},
     "output_type": "execute_result"
    }
   ],
   "source": [
    "df_hashes_dup.iloc[0]"
   ]
  },
  {
   "cell_type": "markdown",
   "metadata": {},
   "source": [
    "How many of hashes has only one unique label?"
   ]
  },
  {
   "cell_type": "code",
   "execution_count": 34,
   "metadata": {},
   "outputs": [],
   "source": [
    "def only_one_label(row):\n",
    "    n_int_cols = sum(pd.api.types.is_integer_dtype(type(val)) for val in row)\n",
    "    if not 0 in row.value_counts():\n",
    "        return False\n",
    "    if row.value_counts()[0] == (n_int_cols - 1):\n",
    "        return True\n",
    "    return False"
   ]
  },
  {
   "cell_type": "code",
   "execution_count": 35,
   "metadata": {},
   "outputs": [
    {
     "data": {
      "text/html": [
       "\n",
       "<style>\n",
       "    /* Turns off some styling */\n",
       "    progress {\n",
       "        /* gets rid of default border in Firefox and Opera. */\n",
       "        border: none;\n",
       "        /* Needs to be in here for Safari polyfill so background images work as expected. */\n",
       "        background-size: auto;\n",
       "    }\n",
       "    progress:not([value]), progress:not([value])::-webkit-progress-bar {\n",
       "        background: repeating-linear-gradient(45deg, #7e7e7e, #7e7e7e 10px, #5c5c5c 10px, #5c5c5c 20px);\n",
       "    }\n",
       "    .progress-bar-interrupted, .progress-bar-interrupted::-webkit-progress-bar {\n",
       "        background: #F44336;\n",
       "    }\n",
       "</style>\n"
      ],
      "text/plain": [
       "<IPython.core.display.HTML object>"
      ]
     },
     "metadata": {},
     "output_type": "display_data"
    },
    {
     "data": {
      "text/html": [
       "\n",
       "    <div>\n",
       "      <progress value='2606' class='' max='2606' style='width:300px; height:20px; vertical-align: middle;'></progress>\n",
       "      100.00% [2606/2606 00:00&lt;00:00]\n",
       "    </div>\n",
       "    "
      ],
      "text/plain": [
       "<IPython.core.display.HTML object>"
      ]
     },
     "metadata": {},
     "output_type": "display_data"
    },
    {
     "name": "stdout",
     "output_type": "stream",
     "text": [
      "only_one_label_count: 711\n"
     ]
    }
   ],
   "source": [
    "only_one_label_count = 0\n",
    "# iterate over all rows in df_hashes_dup\n",
    "for idx, row in progress_bar(df_hashes_dup.iterrows(), total=len(df_hashes_dup)):\n",
    "    n_int_cols = df_hashes_dup.select_dtypes(include=[\"int64\"]).shape[1]\n",
    "    if only_one_label(row):\n",
    "        only_one_label_count += 1\n",
    "print(f\"only_one_label_count: {only_one_label_count}\")"
   ]
  },
  {
   "cell_type": "code",
   "execution_count": 36,
   "metadata": {},
   "outputs": [
    {
     "data": {
      "text/plain": [
       "(2606, 4)"
      ]
     },
     "execution_count": 36,
     "metadata": {},
     "output_type": "execute_result"
    }
   ],
   "source": [
    "df_hashes_dup.shape"
   ]
  },
  {
   "cell_type": "markdown",
   "metadata": {},
   "source": [
    "So, we have `711` hashes without conflicting labels. What is the distribution of labels in the rest of `2606` - `711` = `1895` cases?"
   ]
  },
  {
   "cell_type": "code",
   "execution_count": 37,
   "metadata": {},
   "outputs": [
    {
     "data": {
      "text/plain": [
       "(1895, 4)"
      ]
     },
     "execution_count": 37,
     "metadata": {},
     "output_type": "execute_result"
    }
   ],
   "source": [
    "def more_than_one_label(row):\n",
    "    return not only_one_label(row)\n",
    "\n",
    "# select all rows which have more than one label\n",
    "df_hashes_dup_more_than_one_label = df_hashes_dup[df_hashes_dup.apply(more_than_one_label, axis=1)]\n",
    "df_hashes_dup_more_than_one_label.shape"
   ]
  },
  {
   "cell_type": "code",
   "execution_count": 38,
   "metadata": {},
   "outputs": [
    {
     "data": {
      "text/html": [
       "<div>\n",
       "<style scoped>\n",
       "    .dataframe tbody tr th:only-of-type {\n",
       "        vertical-align: middle;\n",
       "    }\n",
       "\n",
       "    .dataframe tbody tr th {\n",
       "        vertical-align: top;\n",
       "    }\n",
       "\n",
       "    .dataframe thead th {\n",
       "        text-align: right;\n",
       "    }\n",
       "</style>\n",
       "<table border=\"1\" class=\"dataframe\">\n",
       "  <thead>\n",
       "    <tr style=\"text-align: right;\">\n",
       "      <th></th>\n",
       "      <th>hash</th>\n",
       "      <th>OK</th>\n",
       "      <th>empty</th>\n",
       "      <th>WARNING</th>\n",
       "    </tr>\n",
       "  </thead>\n",
       "  <tbody>\n",
       "    <tr>\n",
       "      <th>1</th>\n",
       "      <td>40b908203ff65f28255436809565d903</td>\n",
       "      <td>20</td>\n",
       "      <td>6</td>\n",
       "      <td>0</td>\n",
       "    </tr>\n",
       "    <tr>\n",
       "      <th>2</th>\n",
       "      <td>2983a0ecc9e36a773a05e12d4a83f057</td>\n",
       "      <td>20</td>\n",
       "      <td>6</td>\n",
       "      <td>0</td>\n",
       "    </tr>\n",
       "    <tr>\n",
       "      <th>3</th>\n",
       "      <td>344d461bcc2cf6a8b425ba1b574a4bc2</td>\n",
       "      <td>14</td>\n",
       "      <td>7</td>\n",
       "      <td>0</td>\n",
       "    </tr>\n",
       "    <tr>\n",
       "      <th>4</th>\n",
       "      <td>0ff9e20ecd5a3b4d41198604ce9e58ad</td>\n",
       "      <td>14</td>\n",
       "      <td>7</td>\n",
       "      <td>0</td>\n",
       "    </tr>\n",
       "    <tr>\n",
       "      <th>5</th>\n",
       "      <td>af228898c7c84ed9ac2eabe9d167a128</td>\n",
       "      <td>14</td>\n",
       "      <td>7</td>\n",
       "      <td>0</td>\n",
       "    </tr>\n",
       "    <tr>\n",
       "      <th>...</th>\n",
       "      <td>...</td>\n",
       "      <td>...</td>\n",
       "      <td>...</td>\n",
       "      <td>...</td>\n",
       "    </tr>\n",
       "    <tr>\n",
       "      <th>2576</th>\n",
       "      <td>29fc4d7d134b7871d5c08dc4c1842a80</td>\n",
       "      <td>1</td>\n",
       "      <td>1</td>\n",
       "      <td>0</td>\n",
       "    </tr>\n",
       "    <tr>\n",
       "      <th>2591</th>\n",
       "      <td>5046af52a678cbc82f68c0e641900117</td>\n",
       "      <td>1</td>\n",
       "      <td>1</td>\n",
       "      <td>0</td>\n",
       "    </tr>\n",
       "    <tr>\n",
       "      <th>2594</th>\n",
       "      <td>95dd0bcea896ab68db4158bfb1323f96</td>\n",
       "      <td>1</td>\n",
       "      <td>1</td>\n",
       "      <td>0</td>\n",
       "    </tr>\n",
       "    <tr>\n",
       "      <th>2595</th>\n",
       "      <td>13a31b9bdaa1530ede662729290f6168</td>\n",
       "      <td>1</td>\n",
       "      <td>1</td>\n",
       "      <td>0</td>\n",
       "    </tr>\n",
       "    <tr>\n",
       "      <th>2604</th>\n",
       "      <td>272f3a2ea8200b1d97b6a9331a08ac9b</td>\n",
       "      <td>1</td>\n",
       "      <td>1</td>\n",
       "      <td>0</td>\n",
       "    </tr>\n",
       "  </tbody>\n",
       "</table>\n",
       "<p>1895 rows × 4 columns</p>\n",
       "</div>"
      ],
      "text/plain": [
       "                                  hash  OK  empty  WARNING\n",
       "1     40b908203ff65f28255436809565d903  20      6        0\n",
       "2     2983a0ecc9e36a773a05e12d4a83f057  20      6        0\n",
       "3     344d461bcc2cf6a8b425ba1b574a4bc2  14      7        0\n",
       "4     0ff9e20ecd5a3b4d41198604ce9e58ad  14      7        0\n",
       "5     af228898c7c84ed9ac2eabe9d167a128  14      7        0\n",
       "...                                ...  ..    ...      ...\n",
       "2576  29fc4d7d134b7871d5c08dc4c1842a80   1      1        0\n",
       "2591  5046af52a678cbc82f68c0e641900117   1      1        0\n",
       "2594  95dd0bcea896ab68db4158bfb1323f96   1      1        0\n",
       "2595  13a31b9bdaa1530ede662729290f6168   1      1        0\n",
       "2604  272f3a2ea8200b1d97b6a9331a08ac9b   1      1        0\n",
       "\n",
       "[1895 rows x 4 columns]"
      ]
     },
     "execution_count": 38,
     "metadata": {},
     "output_type": "execute_result"
    }
   ],
   "source": [
    "df_hashes_dup_more_than_one_label"
   ]
  },
  {
   "cell_type": "markdown",
   "metadata": {},
   "source": [
    "Drop `empty` label count. We may ignore it unless there is at least one label of other type. If all labels we have just `empty`, we don't know the type of label."
   ]
  },
  {
   "cell_type": "code",
   "execution_count": 39,
   "metadata": {},
   "outputs": [],
   "source": [
    "# drop column 'empty'\n",
    "df_hashes_dup_more_than_one_label = df_hashes_dup_more_than_one_label.drop(\"empty\", axis=1)"
   ]
  },
  {
   "cell_type": "code",
   "execution_count": 40,
   "metadata": {},
   "outputs": [
    {
     "data": {
      "text/html": [
       "<div>\n",
       "<style scoped>\n",
       "    .dataframe tbody tr th:only-of-type {\n",
       "        vertical-align: middle;\n",
       "    }\n",
       "\n",
       "    .dataframe tbody tr th {\n",
       "        vertical-align: top;\n",
       "    }\n",
       "\n",
       "    .dataframe thead th {\n",
       "        text-align: right;\n",
       "    }\n",
       "</style>\n",
       "<table border=\"1\" class=\"dataframe\">\n",
       "  <thead>\n",
       "    <tr style=\"text-align: right;\">\n",
       "      <th></th>\n",
       "      <th>hash</th>\n",
       "      <th>OK</th>\n",
       "      <th>WARNING</th>\n",
       "    </tr>\n",
       "  </thead>\n",
       "  <tbody>\n",
       "    <tr>\n",
       "      <th>1</th>\n",
       "      <td>40b908203ff65f28255436809565d903</td>\n",
       "      <td>20</td>\n",
       "      <td>0</td>\n",
       "    </tr>\n",
       "    <tr>\n",
       "      <th>2</th>\n",
       "      <td>2983a0ecc9e36a773a05e12d4a83f057</td>\n",
       "      <td>20</td>\n",
       "      <td>0</td>\n",
       "    </tr>\n",
       "    <tr>\n",
       "      <th>3</th>\n",
       "      <td>344d461bcc2cf6a8b425ba1b574a4bc2</td>\n",
       "      <td>14</td>\n",
       "      <td>0</td>\n",
       "    </tr>\n",
       "    <tr>\n",
       "      <th>4</th>\n",
       "      <td>0ff9e20ecd5a3b4d41198604ce9e58ad</td>\n",
       "      <td>14</td>\n",
       "      <td>0</td>\n",
       "    </tr>\n",
       "    <tr>\n",
       "      <th>5</th>\n",
       "      <td>af228898c7c84ed9ac2eabe9d167a128</td>\n",
       "      <td>14</td>\n",
       "      <td>0</td>\n",
       "    </tr>\n",
       "  </tbody>\n",
       "</table>\n",
       "</div>"
      ],
      "text/plain": [
       "                               hash  OK  WARNING\n",
       "1  40b908203ff65f28255436809565d903  20        0\n",
       "2  2983a0ecc9e36a773a05e12d4a83f057  20        0\n",
       "3  344d461bcc2cf6a8b425ba1b574a4bc2  14        0\n",
       "4  0ff9e20ecd5a3b4d41198604ce9e58ad  14        0\n",
       "5  af228898c7c84ed9ac2eabe9d167a128  14        0"
      ]
     },
     "execution_count": 40,
     "metadata": {},
     "output_type": "execute_result"
    }
   ],
   "source": [
    "df_hashes_dup_more_than_one_label.head()"
   ]
  },
  {
   "cell_type": "code",
   "execution_count": 60,
   "metadata": {},
   "outputs": [
    {
     "data": {
      "text/plain": [
       "(1895, 3)"
      ]
     },
     "execution_count": 60,
     "metadata": {},
     "output_type": "execute_result"
    }
   ],
   "source": [
    "df_hashes_dup_more_than_one_label.shape"
   ]
  },
  {
   "cell_type": "markdown",
   "metadata": {},
   "source": [
    "If there are any rows with zeroes both in `OK` and `WARNING` columns - remove those:"
   ]
  },
  {
   "cell_type": "code",
   "execution_count": 41,
   "metadata": {},
   "outputs": [
    {
     "data": {
      "text/plain": [
       "(0, 3)"
      ]
     },
     "execution_count": 41,
     "metadata": {},
     "output_type": "execute_result"
    }
   ],
   "source": [
    "df_hashes_dup_more_than_one_label[(df_hashes_dup_more_than_one_label['OK'] == 0) & (df_hashes_dup_more_than_one_label['WARNING'] == 0)].shape"
   ]
  },
  {
   "cell_type": "markdown",
   "metadata": {},
   "source": [
    "Ok, no rows should be removed, because we don't know labels at all. But do we have rows where simultaneously non-zero values in columns `OK` and `WARNING`?"
   ]
  },
  {
   "cell_type": "code",
   "execution_count": 42,
   "metadata": {},
   "outputs": [
    {
     "data": {
      "text/plain": [
       "(97, 3)"
      ]
     },
     "execution_count": 42,
     "metadata": {},
     "output_type": "execute_result"
    }
   ],
   "source": [
    "df_hashes_dup_more_than_one_label[(df_hashes_dup_more_than_one_label['OK'] != 0) & (df_hashes_dup_more_than_one_label['WARNING'] != 0)].shape"
   ]
  },
  {
   "cell_type": "markdown",
   "metadata": {},
   "source": [
    "Extract unique plates with well-defined labels. It means unique plates or plates that have duplicates but all of those duplicates have the same label:"
   ]
  },
  {
   "cell_type": "code",
   "execution_count": 67,
   "metadata": {},
   "outputs": [],
   "source": [
    "# hashes of all plates that have duplicates, but only one label\n",
    "hashes_dup_unique_label_lst = df_hashes_dup_more_than_one_label[df_hashes_dup_more_than_one_label.apply(only_one_label, axis=1)].hash.to_list()"
   ]
  },
  {
   "cell_type": "code",
   "execution_count": 68,
   "metadata": {},
   "outputs": [
    {
     "data": {
      "text/plain": [
       "1798"
      ]
     },
     "execution_count": 68,
     "metadata": {},
     "output_type": "execute_result"
    }
   ],
   "source": [
    "len(hashes_dup_unique_label_lst)"
   ]
  },
  {
   "cell_type": "code",
   "execution_count": 69,
   "metadata": {},
   "outputs": [
    {
     "name": "stdout",
     "output_type": "stream",
     "text": [
      "len(hashes_reliable_labels): 2564\n"
     ]
    }
   ],
   "source": [
    "hashes_reliable_labels = hashes_no_duplicates + hashes_dup_unique_label_lst\n",
    "print(f\"len(hashes_reliable_labels): {len(hashes_reliable_labels)}\")"
   ]
  },
  {
   "cell_type": "markdown",
   "metadata": {},
   "source": [
    "Get the dataframe with plates which have only reliable labels:"
   ]
  },
  {
   "cell_type": "code",
   "execution_count": 80,
   "metadata": {},
   "outputs": [
    {
     "data": {
      "text/plain": [
       "2564"
      ]
     },
     "execution_count": 80,
     "metadata": {},
     "output_type": "execute_result"
    }
   ],
   "source": [
    "len(set(hashes_reliable_labels))"
   ]
  },
  {
   "cell_type": "code",
   "execution_count": 81,
   "metadata": {},
   "outputs": [
    {
     "data": {
      "text/html": [
       "<div>\n",
       "<style scoped>\n",
       "    .dataframe tbody tr th:only-of-type {\n",
       "        vertical-align: middle;\n",
       "    }\n",
       "\n",
       "    .dataframe tbody tr th {\n",
       "        vertical-align: top;\n",
       "    }\n",
       "\n",
       "    .dataframe thead th {\n",
       "        text-align: right;\n",
       "    }\n",
       "</style>\n",
       "<table border=\"1\" class=\"dataframe\">\n",
       "  <thead>\n",
       "    <tr style=\"text-align: right;\">\n",
       "      <th></th>\n",
       "      <th>experiment_group</th>\n",
       "      <th>fname</th>\n",
       "      <th>name</th>\n",
       "      <th>label</th>\n",
       "      <th>hash</th>\n",
       "    </tr>\n",
       "  </thead>\n",
       "  <tbody>\n",
       "    <tr>\n",
       "      <th>2</th>\n",
       "      <td>CTF-P007</td>\n",
       "      <td>../out/data_npy/CTF-P007/plate_173028eaef6f_OK...</td>\n",
       "      <td>plate_173028eaef6f_OK.npy</td>\n",
       "      <td>OK</td>\n",
       "      <td>65c9988aa9fa604541ef25873fda2b32</td>\n",
       "    </tr>\n",
       "    <tr>\n",
       "      <th>3</th>\n",
       "      <td>CTF-P007</td>\n",
       "      <td>../out/data_npy/CTF-P007/plate_17305a2c7b5a_WA...</td>\n",
       "      <td>plate_17305a2c7b5a_WARNING.npy</td>\n",
       "      <td>WARNING</td>\n",
       "      <td>d5b9318dade81b4802799f35a67bfce0</td>\n",
       "    </tr>\n",
       "    <tr>\n",
       "      <th>4</th>\n",
       "      <td>CTF-P007</td>\n",
       "      <td>../out/data_npy/CTF-P007/plate_1730739b905b_OK...</td>\n",
       "      <td>plate_1730739b905b_OK.npy</td>\n",
       "      <td>OK</td>\n",
       "      <td>14cb73ead9df0e122b36f830bb7e6a5b</td>\n",
       "    </tr>\n",
       "    <tr>\n",
       "      <th>5</th>\n",
       "      <td>CTF-P007</td>\n",
       "      <td>../out/data_npy/CTF-P007/plate_17301dc9b176_em...</td>\n",
       "      <td>plate_17301dc9b176_empty.npy</td>\n",
       "      <td>empty</td>\n",
       "      <td>0776f9e5312333ce055ce519b12edd57</td>\n",
       "    </tr>\n",
       "    <tr>\n",
       "      <th>6</th>\n",
       "      <td>CTF-P007</td>\n",
       "      <td>../out/data_npy/CTF-P007/plate_17303b157f6d_em...</td>\n",
       "      <td>plate_17303b157f6d_empty.npy</td>\n",
       "      <td>empty</td>\n",
       "      <td>919b8debbc848bc44a4ce8b557ed5e59</td>\n",
       "    </tr>\n",
       "    <tr>\n",
       "      <th>...</th>\n",
       "      <td>...</td>\n",
       "      <td>...</td>\n",
       "      <td>...</td>\n",
       "      <td>...</td>\n",
       "      <td>...</td>\n",
       "    </tr>\n",
       "    <tr>\n",
       "      <th>9605</th>\n",
       "      <td>CTF-P010</td>\n",
       "      <td>../out/data_npy/CTF-P010/plate_1730752ca902_OK...</td>\n",
       "      <td>plate_1730752ca902_OK.npy</td>\n",
       "      <td>OK</td>\n",
       "      <td>961dfe4c249eacd4ffd0b2841e9d0b00</td>\n",
       "    </tr>\n",
       "    <tr>\n",
       "      <th>9606</th>\n",
       "      <td>CTF-P010</td>\n",
       "      <td>../out/data_npy/CTF-P010/plate_17306c6618b0_em...</td>\n",
       "      <td>plate_17306c6618b0_empty.npy</td>\n",
       "      <td>empty</td>\n",
       "      <td>c9b571714aba2fa4758ca6078122be6a</td>\n",
       "    </tr>\n",
       "    <tr>\n",
       "      <th>9607</th>\n",
       "      <td>CTF-P010</td>\n",
       "      <td>../out/data_npy/CTF-P010/plate_173020416f9_emp...</td>\n",
       "      <td>plate_173020416f9_empty.npy</td>\n",
       "      <td>empty</td>\n",
       "      <td>ceed04d57b849b59007cdefdaeec8b76</td>\n",
       "    </tr>\n",
       "    <tr>\n",
       "      <th>9608</th>\n",
       "      <td>CTF-P010</td>\n",
       "      <td>../out/data_npy/CTF-P010/plate_17305cdea61f_em...</td>\n",
       "      <td>plate_17305cdea61f_empty.npy</td>\n",
       "      <td>empty</td>\n",
       "      <td>062d4049317a8b32bad700628a09effa</td>\n",
       "    </tr>\n",
       "    <tr>\n",
       "      <th>9609</th>\n",
       "      <td>CTF-P010</td>\n",
       "      <td>../out/data_npy/CTF-P010/plate_173027076f4b_OK...</td>\n",
       "      <td>plate_173027076f4b_OK.npy</td>\n",
       "      <td>OK</td>\n",
       "      <td>634a22af5e1b55a990b6b94e3da84248</td>\n",
       "    </tr>\n",
       "  </tbody>\n",
       "</table>\n",
       "<p>7406 rows × 5 columns</p>\n",
       "</div>"
      ],
      "text/plain": [
       "     experiment_group                                              fname  \\\n",
       "2            CTF-P007  ../out/data_npy/CTF-P007/plate_173028eaef6f_OK...   \n",
       "3            CTF-P007  ../out/data_npy/CTF-P007/plate_17305a2c7b5a_WA...   \n",
       "4            CTF-P007  ../out/data_npy/CTF-P007/plate_1730739b905b_OK...   \n",
       "5            CTF-P007  ../out/data_npy/CTF-P007/plate_17301dc9b176_em...   \n",
       "6            CTF-P007  ../out/data_npy/CTF-P007/plate_17303b157f6d_em...   \n",
       "...               ...                                                ...   \n",
       "9605         CTF-P010  ../out/data_npy/CTF-P010/plate_1730752ca902_OK...   \n",
       "9606         CTF-P010  ../out/data_npy/CTF-P010/plate_17306c6618b0_em...   \n",
       "9607         CTF-P010  ../out/data_npy/CTF-P010/plate_173020416f9_emp...   \n",
       "9608         CTF-P010  ../out/data_npy/CTF-P010/plate_17305cdea61f_em...   \n",
       "9609         CTF-P010  ../out/data_npy/CTF-P010/plate_173027076f4b_OK...   \n",
       "\n",
       "                                name    label  \\\n",
       "2          plate_173028eaef6f_OK.npy       OK   \n",
       "3     plate_17305a2c7b5a_WARNING.npy  WARNING   \n",
       "4          plate_1730739b905b_OK.npy       OK   \n",
       "5       plate_17301dc9b176_empty.npy    empty   \n",
       "6       plate_17303b157f6d_empty.npy    empty   \n",
       "...                              ...      ...   \n",
       "9605       plate_1730752ca902_OK.npy       OK   \n",
       "9606    plate_17306c6618b0_empty.npy    empty   \n",
       "9607     plate_173020416f9_empty.npy    empty   \n",
       "9608    plate_17305cdea61f_empty.npy    empty   \n",
       "9609       plate_173027076f4b_OK.npy       OK   \n",
       "\n",
       "                                  hash  \n",
       "2     65c9988aa9fa604541ef25873fda2b32  \n",
       "3     d5b9318dade81b4802799f35a67bfce0  \n",
       "4     14cb73ead9df0e122b36f830bb7e6a5b  \n",
       "5     0776f9e5312333ce055ce519b12edd57  \n",
       "6     919b8debbc848bc44a4ce8b557ed5e59  \n",
       "...                                ...  \n",
       "9605  961dfe4c249eacd4ffd0b2841e9d0b00  \n",
       "9606  c9b571714aba2fa4758ca6078122be6a  \n",
       "9607  ceed04d57b849b59007cdefdaeec8b76  \n",
       "9608  062d4049317a8b32bad700628a09effa  \n",
       "9609  634a22af5e1b55a990b6b94e3da84248  \n",
       "\n",
       "[7406 rows x 5 columns]"
      ]
     },
     "execution_count": 81,
     "metadata": {},
     "output_type": "execute_result"
    }
   ],
   "source": [
    "df_hashes_reliable_labels = df_hashes[df_hashes.hash.isin(hashes_reliable_labels)]\n",
    "df_hashes_reliable_labels"
   ]
  },
  {
   "cell_type": "code",
   "execution_count": 82,
   "metadata": {},
   "outputs": [
    {
     "data": {
      "text/plain": [
       "label\n",
       "empty      3235\n",
       "OK         3220\n",
       "WARNING     951\n",
       "Name: count, dtype: int64"
      ]
     },
     "execution_count": 82,
     "metadata": {},
     "output_type": "execute_result"
    }
   ],
   "source": [
    "df_hashes_reliable_labels.label.value_counts()"
   ]
  },
  {
   "cell_type": "code",
   "execution_count": 83,
   "metadata": {},
   "outputs": [
    {
     "data": {
      "text/plain": [
       "(2564,)"
      ]
     },
     "execution_count": 83,
     "metadata": {},
     "output_type": "execute_result"
    }
   ],
   "source": [
    "df_hashes_reliable_labels.hash.unique().shape"
   ]
  },
  {
   "cell_type": "code",
   "execution_count": 84,
   "metadata": {},
   "outputs": [
    {
     "data": {
      "text/plain": [
       "(4171, 5)"
      ]
     },
     "execution_count": 84,
     "metadata": {},
     "output_type": "execute_result"
    }
   ],
   "source": [
    "# drop rows that have the label value equal to `empty`\n",
    "df_hashes_reliable_labels = df_hashes_reliable_labels[df_hashes_reliable_labels.label != \"empty\"]\n",
    "df_hashes_reliable_labels.shape"
   ]
  },
  {
   "cell_type": "code",
   "execution_count": 85,
   "metadata": {},
   "outputs": [
    {
     "data": {
      "text/plain": [
       "label\n",
       "OK         3220\n",
       "WARNING     951\n",
       "Name: count, dtype: int64"
      ]
     },
     "execution_count": 85,
     "metadata": {},
     "output_type": "execute_result"
    }
   ],
   "source": [
    "df_hashes_reliable_labels.label.value_counts()"
   ]
  },
  {
   "cell_type": "code",
   "execution_count": 87,
   "metadata": {},
   "outputs": [
    {
     "data": {
      "text/plain": [
       "(2424, 5)"
      ]
     },
     "execution_count": 87,
     "metadata": {},
     "output_type": "execute_result"
    }
   ],
   "source": [
    "# remove duplicate rows\n",
    "df_hashes_reliable_labels = df_hashes_reliable_labels.drop_duplicates(subset=[\"hash\"], keep=\"first\")\n",
    "df_hashes_reliable_labels.shape"
   ]
  },
  {
   "cell_type": "code",
   "execution_count": 88,
   "metadata": {},
   "outputs": [
    {
     "data": {
      "text/plain": [
       "label\n",
       "OK         1704\n",
       "WARNING     720\n",
       "Name: count, dtype: int64"
      ]
     },
     "execution_count": 88,
     "metadata": {},
     "output_type": "execute_result"
    }
   ],
   "source": [
    "df_hashes_reliable_labels.label.value_counts()"
   ]
  },
  {
   "cell_type": "code",
   "execution_count": 89,
   "metadata": {},
   "outputs": [],
   "source": [
    "# save to the out folder\n",
    "df_hashes_reliable_labels.to_csv(PATH_OUT / \"data_hashes_reliable_labels.csv\")"
   ]
  },
  {
   "cell_type": "markdown",
   "metadata": {},
   "source": [
    "Actual distribution of the labels of plates, ignoring plates with conflicting labels:"
   ]
  },
  {
   "cell_type": "code",
   "execution_count": 90,
   "metadata": {},
   "outputs": [
    {
     "data": {
      "text/html": [
       "<div>\n",
       "<style scoped>\n",
       "    .dataframe tbody tr th:only-of-type {\n",
       "        vertical-align: middle;\n",
       "    }\n",
       "\n",
       "    .dataframe tbody tr th {\n",
       "        vertical-align: top;\n",
       "    }\n",
       "\n",
       "    .dataframe thead th {\n",
       "        text-align: right;\n",
       "    }\n",
       "</style>\n",
       "<table border=\"1\" class=\"dataframe\">\n",
       "  <thead>\n",
       "    <tr style=\"text-align: right;\">\n",
       "      <th></th>\n",
       "      <th>experiment_group</th>\n",
       "      <th>fname</th>\n",
       "      <th>name</th>\n",
       "      <th>label</th>\n",
       "      <th>hash</th>\n",
       "    </tr>\n",
       "  </thead>\n",
       "  <tbody>\n",
       "    <tr>\n",
       "      <th>2</th>\n",
       "      <td>CTF-P007</td>\n",
       "      <td>../out/data_npy/CTF-P007/plate_173028eaef6f_OK...</td>\n",
       "      <td>plate_173028eaef6f_OK.npy</td>\n",
       "      <td>OK</td>\n",
       "      <td>65c9988aa9fa604541ef25873fda2b32</td>\n",
       "    </tr>\n",
       "    <tr>\n",
       "      <th>3</th>\n",
       "      <td>CTF-P007</td>\n",
       "      <td>../out/data_npy/CTF-P007/plate_17305a2c7b5a_WA...</td>\n",
       "      <td>plate_17305a2c7b5a_WARNING.npy</td>\n",
       "      <td>WARNING</td>\n",
       "      <td>d5b9318dade81b4802799f35a67bfce0</td>\n",
       "    </tr>\n",
       "    <tr>\n",
       "      <th>4</th>\n",
       "      <td>CTF-P007</td>\n",
       "      <td>../out/data_npy/CTF-P007/plate_1730739b905b_OK...</td>\n",
       "      <td>plate_1730739b905b_OK.npy</td>\n",
       "      <td>OK</td>\n",
       "      <td>14cb73ead9df0e122b36f830bb7e6a5b</td>\n",
       "    </tr>\n",
       "    <tr>\n",
       "      <th>10</th>\n",
       "      <td>CTF-P007</td>\n",
       "      <td>../out/data_npy/CTF-P007/plate_17301d19e504_WA...</td>\n",
       "      <td>plate_17301d19e504_WARNING.npy</td>\n",
       "      <td>WARNING</td>\n",
       "      <td>6dabf3e595a6287f5dd9a82817f02cd5</td>\n",
       "    </tr>\n",
       "    <tr>\n",
       "      <th>13</th>\n",
       "      <td>CTF-P007</td>\n",
       "      <td>../out/data_npy/CTF-P007/plate_17302c91550a_OK...</td>\n",
       "      <td>plate_17302c91550a_OK.npy</td>\n",
       "      <td>OK</td>\n",
       "      <td>f32b591d227072bdb1bdad28f7c83b90</td>\n",
       "    </tr>\n",
       "    <tr>\n",
       "      <th>...</th>\n",
       "      <td>...</td>\n",
       "      <td>...</td>\n",
       "      <td>...</td>\n",
       "      <td>...</td>\n",
       "      <td>...</td>\n",
       "    </tr>\n",
       "    <tr>\n",
       "      <th>9591</th>\n",
       "      <td>CTF-P010</td>\n",
       "      <td>../out/data_npy/CTF-P010/plate_17301ac9221_OK.npy</td>\n",
       "      <td>plate_17301ac9221_OK.npy</td>\n",
       "      <td>OK</td>\n",
       "      <td>4ee2e8921535272a76df532ff61ac825</td>\n",
       "    </tr>\n",
       "    <tr>\n",
       "      <th>9599</th>\n",
       "      <td>CTF-P010</td>\n",
       "      <td>../out/data_npy/CTF-P010/plate_17307182f682_OK...</td>\n",
       "      <td>plate_17307182f682_OK.npy</td>\n",
       "      <td>OK</td>\n",
       "      <td>5b31e42f0d5960514edba516942b5340</td>\n",
       "    </tr>\n",
       "    <tr>\n",
       "      <th>9600</th>\n",
       "      <td>CTF-P010</td>\n",
       "      <td>../out/data_npy/CTF-P010/plate_17307cc4506e_WA...</td>\n",
       "      <td>plate_17307cc4506e_WARNING.npy</td>\n",
       "      <td>WARNING</td>\n",
       "      <td>5a1209bd1b18b0fae51d43b74ae9af87</td>\n",
       "    </tr>\n",
       "    <tr>\n",
       "      <th>9605</th>\n",
       "      <td>CTF-P010</td>\n",
       "      <td>../out/data_npy/CTF-P010/plate_1730752ca902_OK...</td>\n",
       "      <td>plate_1730752ca902_OK.npy</td>\n",
       "      <td>OK</td>\n",
       "      <td>961dfe4c249eacd4ffd0b2841e9d0b00</td>\n",
       "    </tr>\n",
       "    <tr>\n",
       "      <th>9609</th>\n",
       "      <td>CTF-P010</td>\n",
       "      <td>../out/data_npy/CTF-P010/plate_173027076f4b_OK...</td>\n",
       "      <td>plate_173027076f4b_OK.npy</td>\n",
       "      <td>OK</td>\n",
       "      <td>634a22af5e1b55a990b6b94e3da84248</td>\n",
       "    </tr>\n",
       "  </tbody>\n",
       "</table>\n",
       "<p>2424 rows × 5 columns</p>\n",
       "</div>"
      ],
      "text/plain": [
       "     experiment_group                                              fname  \\\n",
       "2            CTF-P007  ../out/data_npy/CTF-P007/plate_173028eaef6f_OK...   \n",
       "3            CTF-P007  ../out/data_npy/CTF-P007/plate_17305a2c7b5a_WA...   \n",
       "4            CTF-P007  ../out/data_npy/CTF-P007/plate_1730739b905b_OK...   \n",
       "10           CTF-P007  ../out/data_npy/CTF-P007/plate_17301d19e504_WA...   \n",
       "13           CTF-P007  ../out/data_npy/CTF-P007/plate_17302c91550a_OK...   \n",
       "...               ...                                                ...   \n",
       "9591         CTF-P010  ../out/data_npy/CTF-P010/plate_17301ac9221_OK.npy   \n",
       "9599         CTF-P010  ../out/data_npy/CTF-P010/plate_17307182f682_OK...   \n",
       "9600         CTF-P010  ../out/data_npy/CTF-P010/plate_17307cc4506e_WA...   \n",
       "9605         CTF-P010  ../out/data_npy/CTF-P010/plate_1730752ca902_OK...   \n",
       "9609         CTF-P010  ../out/data_npy/CTF-P010/plate_173027076f4b_OK...   \n",
       "\n",
       "                                name    label  \\\n",
       "2          plate_173028eaef6f_OK.npy       OK   \n",
       "3     plate_17305a2c7b5a_WARNING.npy  WARNING   \n",
       "4          plate_1730739b905b_OK.npy       OK   \n",
       "10    plate_17301d19e504_WARNING.npy  WARNING   \n",
       "13         plate_17302c91550a_OK.npy       OK   \n",
       "...                              ...      ...   \n",
       "9591        plate_17301ac9221_OK.npy       OK   \n",
       "9599       plate_17307182f682_OK.npy       OK   \n",
       "9600  plate_17307cc4506e_WARNING.npy  WARNING   \n",
       "9605       plate_1730752ca902_OK.npy       OK   \n",
       "9609       plate_173027076f4b_OK.npy       OK   \n",
       "\n",
       "                                  hash  \n",
       "2     65c9988aa9fa604541ef25873fda2b32  \n",
       "3     d5b9318dade81b4802799f35a67bfce0  \n",
       "4     14cb73ead9df0e122b36f830bb7e6a5b  \n",
       "10    6dabf3e595a6287f5dd9a82817f02cd5  \n",
       "13    f32b591d227072bdb1bdad28f7c83b90  \n",
       "...                                ...  \n",
       "9591  4ee2e8921535272a76df532ff61ac825  \n",
       "9599  5b31e42f0d5960514edba516942b5340  \n",
       "9600  5a1209bd1b18b0fae51d43b74ae9af87  \n",
       "9605  961dfe4c249eacd4ffd0b2841e9d0b00  \n",
       "9609  634a22af5e1b55a990b6b94e3da84248  \n",
       "\n",
       "[2424 rows x 5 columns]"
      ]
     },
     "execution_count": 90,
     "metadata": {},
     "output_type": "execute_result"
    }
   ],
   "source": [
    "df_hashes_reliable_labels"
   ]
  },
  {
   "cell_type": "code",
   "execution_count": 91,
   "metadata": {},
   "outputs": [
    {
     "data": {
      "text/plain": [
       "Counter({'OK': 1704, 'WARNING': 720})"
      ]
     },
     "execution_count": 91,
     "metadata": {},
     "output_type": "execute_result"
    }
   ],
   "source": [
    "c = Counter(df_hashes_reliable_labels.label)\n",
    "c"
   ]
  },
  {
   "cell_type": "code",
   "execution_count": 92,
   "metadata": {},
   "outputs": [
    {
     "data": {
      "image/png": "[encoded data removed]",
      "text/plain": [
       "<Figure size 640x480 with 1 Axes>"
      ]
     },
     "metadata": {},
     "output_type": "display_data"
    }
   ],
   "source": [
    "sns.barplot(x=list(c.keys()), y=list(c.values()));"
   ]
  },
  {
   "cell_type": "code",
   "execution_count": 93,
   "metadata": {},
   "outputs": [],
   "source": [
    "df_hashes_reliable_labels = pd.read_csv(PATH_OUT / \"data_hashes_reliable_labels.csv\", index_col=0)"
   ]
  },
  {
   "cell_type": "markdown",
   "metadata": {},
   "source": [
    "## 4. Explore shapes distribution of images\n",
    "Below we consider only images that have the reliable labels as defined above."
   ]
  },
  {
   "cell_type": "code",
   "execution_count": 94,
   "metadata": {},
   "outputs": [
    {
     "data": {
      "text/plain": [
       "Index(['experiment_group', 'fname', 'name', 'label', 'hash'], dtype='object')"
      ]
     },
     "execution_count": 94,
     "metadata": {},
     "output_type": "execute_result"
    }
   ],
   "source": [
    "df_hashes_reliable_labels.columns"
   ]
  },
  {
   "cell_type": "code",
   "execution_count": 95,
   "metadata": {},
   "outputs": [
    {
     "data": {
      "text/plain": [
       "2       ../out/data_npy/CTF-P007/plate_173028eaef6f_OK...\n",
       "3       ../out/data_npy/CTF-P007/plate_17305a2c7b5a_WA...\n",
       "4       ../out/data_npy/CTF-P007/plate_1730739b905b_OK...\n",
       "10      ../out/data_npy/CTF-P007/plate_17301d19e504_WA...\n",
       "13      ../out/data_npy/CTF-P007/plate_17302c91550a_OK...\n",
       "                              ...                        \n",
       "9591    ../out/data_npy/CTF-P010/plate_17301ac9221_OK.npy\n",
       "9599    ../out/data_npy/CTF-P010/plate_17307182f682_OK...\n",
       "9600    ../out/data_npy/CTF-P010/plate_17307cc4506e_WA...\n",
       "9605    ../out/data_npy/CTF-P010/plate_1730752ca902_OK...\n",
       "9609    ../out/data_npy/CTF-P010/plate_173027076f4b_OK...\n",
       "Name: fname, Length: 2424, dtype: object"
      ]
     },
     "execution_count": 95,
     "metadata": {},
     "output_type": "execute_result"
    }
   ],
   "source": [
    "df_hashes_reliable_labels.fname"
   ]
  },
  {
   "cell_type": "code",
   "execution_count": 96,
   "metadata": {},
   "outputs": [
    {
     "data": {
      "text/html": [
       "\n",
       "<style>\n",
       "    /* Turns off some styling */\n",
       "    progress {\n",
       "        /* gets rid of default border in Firefox and Opera. */\n",
       "        border: none;\n",
       "        /* Needs to be in here for Safari polyfill so background images work as expected. */\n",
       "        background-size: auto;\n",
       "    }\n",
       "    progress:not([value]), progress:not([value])::-webkit-progress-bar {\n",
       "        background: repeating-linear-gradient(45deg, #7e7e7e, #7e7e7e 10px, #5c5c5c 10px, #5c5c5c 20px);\n",
       "    }\n",
       "    .progress-bar-interrupted, .progress-bar-interrupted::-webkit-progress-bar {\n",
       "        background: #F44336;\n",
       "    }\n",
       "</style>\n"
      ],
      "text/plain": [
       "<IPython.core.display.HTML object>"
      ]
     },
     "metadata": {},
     "output_type": "display_data"
    },
    {
     "data": {
      "text/html": [
       "\n",
       "    <div>\n",
       "      <progress value='2424' class='' max='2424' style='width:300px; height:20px; vertical-align: middle;'></progress>\n",
       "      100.00% [2424/2424 00:00&lt;00:00]\n",
       "    </div>\n",
       "    "
      ],
      "text/plain": [
       "<IPython.core.display.HTML object>"
      ]
     },
     "metadata": {},
     "output_type": "display_data"
    }
   ],
   "source": [
    "shapes = []\n",
    "for fname in progress_bar(df_hashes_reliable_labels.fname):\n",
    "    name = fname.split('.')[0]\n",
    "    values = np.load(fname)\n",
    "    shapes.append(values.shape)"
   ]
  },
  {
   "cell_type": "code",
   "execution_count": 97,
   "metadata": {},
   "outputs": [
    {
     "data": {
      "text/plain": [
       "Counter({(16, 24): 1583,\n",
       "         (8, 12): 272,\n",
       "         (14, 22): 213,\n",
       "         (14, 12): 79,\n",
       "         (13, 20): 64,\n",
       "         (14, 21): 56,\n",
       "         (6, 10): 48,\n",
       "         (7, 22): 41,\n",
       "         (14, 11): 38,\n",
       "         (16, 13): 20,\n",
       "         (16, 12): 4,\n",
       "         (12, 22): 3,\n",
       "         (12, 20): 2,\n",
       "         (14, 24): 1})"
      ]
     },
     "execution_count": 97,
     "metadata": {},
     "output_type": "execute_result"
    }
   ],
   "source": [
    "c = Counter(shapes)\n",
    "c"
   ]
  },
  {
   "cell_type": "markdown",
   "metadata": {},
   "source": [
    "The fact that some shapes can be obtained by multiplication of other shapes may be a hint to splitting plates into the subplates  of unified shape, e.g. `14 x 22` and `14 x 11`can be considered as a combination of subplates of shapes `7 x 11`."
   ]
  },
  {
   "cell_type": "markdown",
   "metadata": {},
   "source": [
    "## 5. Select entries with the most common shapes\n",
    "Let's work with the shapes `14 x 22` and `16 x 24`. Those provides 426 + 392 = 818 that is more than 50% of all images with reliable labels."
   ]
  },
  {
   "cell_type": "code",
   "execution_count": 34,
   "metadata": {},
   "outputs": [
    {
     "data": {
      "text/plain": [
       "experiment_group                                             CTF-P007\n",
       "fname               ../out/data_npy/CTF-P007/plate_17305eb6f8d7_OK...\n",
       "name                                        plate_17305eb6f8d7_OK.npy\n",
       "label                                                              OK\n",
       "hash                                 2aad337f0fac9e7a3b2b640d0f6c7a04\n",
       "Name: 0, dtype: object"
      ]
     },
     "execution_count": 34,
     "metadata": {},
     "output_type": "execute_result"
    }
   ],
   "source": [
    "df_hashes_reliable_labels.iloc[0]"
   ]
  },
  {
   "cell_type": "code",
   "execution_count": 37,
   "metadata": {},
   "outputs": [],
   "source": [
    "required_shapes = [(14, 22), (16, 24)]\n",
    "def is_proper_shape(series, required_shapes=required_shapes):\n",
    "    fname = series.fname\n",
    "    values = np.load(fname)\n",
    "    return values.shape in required_shapes"
   ]
  },
  {
   "cell_type": "code",
   "execution_count": 38,
   "metadata": {},
   "outputs": [],
   "source": [
    "df_hashes_reliable_labels_ = df_hashes_reliable_labels[df_hashes_reliable_labels.apply(is_proper_shape, axis=1)]"
   ]
  },
  {
   "cell_type": "code",
   "execution_count": 39,
   "metadata": {},
   "outputs": [
    {
     "data": {
      "text/plain": [
       "(818, 5)"
      ]
     },
     "execution_count": 39,
     "metadata": {},
     "output_type": "execute_result"
    }
   ],
   "source": [
    "df_hashes_reliable_labels_.shape"
   ]
  },
  {
   "cell_type": "code",
   "execution_count": 41,
   "metadata": {},
   "outputs": [
    {
     "data": {
      "text/plain": [
       "label\n",
       "OK         574\n",
       "empty      177\n",
       "WARNING     67\n",
       "Name: count, dtype: int64"
      ]
     },
     "execution_count": 41,
     "metadata": {},
     "output_type": "execute_result"
    }
   ],
   "source": [
    "df_hashes_reliable_labels_.label.value_counts()"
   ]
  },
  {
   "cell_type": "code",
   "execution_count": 42,
   "metadata": {},
   "outputs": [],
   "source": [
    "# save to the out folder\n",
    "df_hashes_reliable_labels_.to_csv(PATH_OUT / \"data_hashes_reliable_labels_top_shapes.csv\")"
   ]
  },
  {
   "cell_type": "markdown",
   "metadata": {},
   "source": [
    "Below is experimental code not used in the pipeline."
   ]
  },
  {
   "cell_type": "markdown",
   "metadata": {},
   "source": [
    "Upscale images to `224 x 224`:"
   ]
  },
  {
   "cell_type": "code",
   "execution_count": null,
   "metadata": {},
   "outputs": [],
   "source": [
    "# read .png file to numpy array\n",
    "from PIL import Image\n",
    "\n",
    "im = Image.open(p)\n",
    "im = np.array(im)\n",
    "im.shape"
   ]
  },
  {
   "cell_type": "markdown",
   "metadata": {},
   "source": [
    "The fourth channel contains only `255` values."
   ]
  },
  {
   "cell_type": "code",
   "execution_count": null,
   "metadata": {},
   "outputs": [],
   "source": [
    "np.unique(im[:, :,3])"
   ]
  },
  {
   "cell_type": "code",
   "execution_count": null,
   "metadata": {},
   "outputs": [],
   "source": [
    "import cv2\n",
    "\n",
    "img = cv2.imread(p, cv2.IMREAD_UNCHANGED)\n",
    "res = cv2.resize(img, dsize=(224, 224), interpolation=cv2.INTER_CUBIC)"
   ]
  },
  {
   "cell_type": "code",
   "execution_count": null,
   "metadata": {},
   "outputs": [],
   "source": [
    "plt.imshow(res);"
   ]
  },
  {
   "cell_type": "code",
   "execution_count": null,
   "metadata": {},
   "outputs": [],
   "source": [
    "img.shape"
   ]
  },
  {
   "cell_type": "code",
   "execution_count": null,
   "metadata": {},
   "outputs": [],
   "source": []
  }
 ],
 "metadata": {
  "kernelspec": {
   "display_name": "combo",
   "language": "python",
   "name": "python3"
  },
  "language_info": {
   "codemirror_mode": {
    "name": "ipython",
    "version": 3
   },
   "file_extension": ".py",
   "mimetype": "text/x-python",
   "name": "python",
   "nbconvert_exporter": "python",
   "pygments_lexer": "ipython3",
   "version": "3.12.3"
  }
 },
 "nbformat": 4,
 "nbformat_minor": 2
}
